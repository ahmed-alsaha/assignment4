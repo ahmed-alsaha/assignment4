{
 "cells": [
  {
   "cell_type": "code",
   "execution_count": 37,
   "id": "7ec52923-5aa8-4fcd-bd30-707b8479dd57",
   "metadata": {},
   "outputs": [],
   "source": [
    "import numpy as np\n",
    "import pandas as pd\n",
    "import seaborn as sns\n",
    "%matplotlib inline"
   ]
  },
  {
   "cell_type": "code",
   "execution_count": 3,
   "id": "3193d416-c38a-4de0-b0bc-127e852431fc",
   "metadata": {},
   "outputs": [],
   "source": [
    "df=pd.read_csv(\"autos.csv\")"
   ]
  },
  {
   "cell_type": "code",
   "execution_count": 29,
   "id": "bcb74340-f76e-4b12-b702-af6410aca163",
   "metadata": {},
   "outputs": [
    {
     "data": {
      "text/html": [
       "<div>\n",
       "<style scoped>\n",
       "    .dataframe tbody tr th:only-of-type {\n",
       "        vertical-align: middle;\n",
       "    }\n",
       "\n",
       "    .dataframe tbody tr th {\n",
       "        vertical-align: top;\n",
       "    }\n",
       "\n",
       "    .dataframe thead th {\n",
       "        text-align: right;\n",
       "    }\n",
       "</style>\n",
       "<table border=\"1\" class=\"dataframe\">\n",
       "  <thead>\n",
       "    <tr style=\"text-align: right;\">\n",
       "      <th></th>\n",
       "      <th>index</th>\n",
       "      <th>dateCrawled</th>\n",
       "      <th>name</th>\n",
       "      <th>seller</th>\n",
       "      <th>offerType</th>\n",
       "      <th>price</th>\n",
       "      <th>abtest</th>\n",
       "      <th>vehicleType</th>\n",
       "      <th>yearOfRegistration</th>\n",
       "      <th>gearbox</th>\n",
       "      <th>...</th>\n",
       "      <th>model</th>\n",
       "      <th>kilometer</th>\n",
       "      <th>monthOfRegistration</th>\n",
       "      <th>fuelType</th>\n",
       "      <th>brand</th>\n",
       "      <th>notRepairedDamage</th>\n",
       "      <th>dateCreated</th>\n",
       "      <th>nrOfPictures</th>\n",
       "      <th>postalCode</th>\n",
       "      <th>lastSeen</th>\n",
       "    </tr>\n",
       "  </thead>\n",
       "  <tbody>\n",
       "    <tr>\n",
       "      <th>0</th>\n",
       "      <td>0</td>\n",
       "      <td>2016-03-24 11:52:17</td>\n",
       "      <td>Golf_3_1.6</td>\n",
       "      <td>privat</td>\n",
       "      <td>Angebot</td>\n",
       "      <td>480</td>\n",
       "      <td>test</td>\n",
       "      <td>NaN</td>\n",
       "      <td>1993</td>\n",
       "      <td>manuell</td>\n",
       "      <td>...</td>\n",
       "      <td>golf</td>\n",
       "      <td>150000</td>\n",
       "      <td>0</td>\n",
       "      <td>benzin</td>\n",
       "      <td>volkswagen</td>\n",
       "      <td>NaN</td>\n",
       "      <td>2016-03-24 00:00:00</td>\n",
       "      <td>0</td>\n",
       "      <td>70435</td>\n",
       "      <td>2016-04-07 03:16:57</td>\n",
       "    </tr>\n",
       "    <tr>\n",
       "      <th>1</th>\n",
       "      <td>1</td>\n",
       "      <td>2016-03-24 10:58:45</td>\n",
       "      <td>A5_Sportback_2.7_Tdi</td>\n",
       "      <td>privat</td>\n",
       "      <td>Angebot</td>\n",
       "      <td>18300</td>\n",
       "      <td>test</td>\n",
       "      <td>coupe</td>\n",
       "      <td>2011</td>\n",
       "      <td>manuell</td>\n",
       "      <td>...</td>\n",
       "      <td>NaN</td>\n",
       "      <td>125000</td>\n",
       "      <td>5</td>\n",
       "      <td>diesel</td>\n",
       "      <td>audi</td>\n",
       "      <td>ja</td>\n",
       "      <td>2016-03-24 00:00:00</td>\n",
       "      <td>0</td>\n",
       "      <td>66954</td>\n",
       "      <td>2016-04-07 01:46:50</td>\n",
       "    </tr>\n",
       "    <tr>\n",
       "      <th>2</th>\n",
       "      <td>2</td>\n",
       "      <td>2016-03-14 12:52:21</td>\n",
       "      <td>Jeep_Grand_Cherokee_\"Overland\"</td>\n",
       "      <td>privat</td>\n",
       "      <td>Angebot</td>\n",
       "      <td>9800</td>\n",
       "      <td>test</td>\n",
       "      <td>suv</td>\n",
       "      <td>2004</td>\n",
       "      <td>automatik</td>\n",
       "      <td>...</td>\n",
       "      <td>grand</td>\n",
       "      <td>125000</td>\n",
       "      <td>8</td>\n",
       "      <td>diesel</td>\n",
       "      <td>jeep</td>\n",
       "      <td>NaN</td>\n",
       "      <td>2016-03-14 00:00:00</td>\n",
       "      <td>0</td>\n",
       "      <td>90480</td>\n",
       "      <td>2016-04-05 12:47:46</td>\n",
       "    </tr>\n",
       "    <tr>\n",
       "      <th>3</th>\n",
       "      <td>3</td>\n",
       "      <td>2016-03-17 16:54:04</td>\n",
       "      <td>GOLF_4_1_4__3TÜRER</td>\n",
       "      <td>privat</td>\n",
       "      <td>Angebot</td>\n",
       "      <td>1500</td>\n",
       "      <td>test</td>\n",
       "      <td>kleinwagen</td>\n",
       "      <td>2001</td>\n",
       "      <td>manuell</td>\n",
       "      <td>...</td>\n",
       "      <td>golf</td>\n",
       "      <td>150000</td>\n",
       "      <td>6</td>\n",
       "      <td>benzin</td>\n",
       "      <td>volkswagen</td>\n",
       "      <td>nein</td>\n",
       "      <td>2016-03-17 00:00:00</td>\n",
       "      <td>0</td>\n",
       "      <td>91074</td>\n",
       "      <td>2016-03-17 17:40:17</td>\n",
       "    </tr>\n",
       "    <tr>\n",
       "      <th>4</th>\n",
       "      <td>4</td>\n",
       "      <td>2016-03-31 17:25:20</td>\n",
       "      <td>Skoda_Fabia_1.4_TDI_PD_Classic</td>\n",
       "      <td>privat</td>\n",
       "      <td>Angebot</td>\n",
       "      <td>3600</td>\n",
       "      <td>test</td>\n",
       "      <td>kleinwagen</td>\n",
       "      <td>2008</td>\n",
       "      <td>manuell</td>\n",
       "      <td>...</td>\n",
       "      <td>fabia</td>\n",
       "      <td>90000</td>\n",
       "      <td>7</td>\n",
       "      <td>diesel</td>\n",
       "      <td>skoda</td>\n",
       "      <td>nein</td>\n",
       "      <td>2016-03-31 00:00:00</td>\n",
       "      <td>0</td>\n",
       "      <td>60437</td>\n",
       "      <td>2016-04-06 10:17:21</td>\n",
       "    </tr>\n",
       "  </tbody>\n",
       "</table>\n",
       "<p>5 rows × 21 columns</p>\n",
       "</div>"
      ],
      "text/plain": [
       "   index          dateCrawled                            name  seller  \\\n",
       "0      0  2016-03-24 11:52:17                      Golf_3_1.6  privat   \n",
       "1      1  2016-03-24 10:58:45            A5_Sportback_2.7_Tdi  privat   \n",
       "2      2  2016-03-14 12:52:21  Jeep_Grand_Cherokee_\"Overland\"  privat   \n",
       "3      3  2016-03-17 16:54:04              GOLF_4_1_4__3TÜRER  privat   \n",
       "4      4  2016-03-31 17:25:20  Skoda_Fabia_1.4_TDI_PD_Classic  privat   \n",
       "\n",
       "  offerType  price abtest vehicleType  yearOfRegistration    gearbox  ...  \\\n",
       "0   Angebot    480   test         NaN                1993    manuell  ...   \n",
       "1   Angebot  18300   test       coupe                2011    manuell  ...   \n",
       "2   Angebot   9800   test         suv                2004  automatik  ...   \n",
       "3   Angebot   1500   test  kleinwagen                2001    manuell  ...   \n",
       "4   Angebot   3600   test  kleinwagen                2008    manuell  ...   \n",
       "\n",
       "   model kilometer  monthOfRegistration  fuelType       brand  \\\n",
       "0   golf    150000                    0    benzin  volkswagen   \n",
       "1    NaN    125000                    5    diesel        audi   \n",
       "2  grand    125000                    8    diesel        jeep   \n",
       "3   golf    150000                    6    benzin  volkswagen   \n",
       "4  fabia     90000                    7    diesel       skoda   \n",
       "\n",
       "  notRepairedDamage          dateCreated nrOfPictures  postalCode  \\\n",
       "0               NaN  2016-03-24 00:00:00            0       70435   \n",
       "1                ja  2016-03-24 00:00:00            0       66954   \n",
       "2               NaN  2016-03-14 00:00:00            0       90480   \n",
       "3              nein  2016-03-17 00:00:00            0       91074   \n",
       "4              nein  2016-03-31 00:00:00            0       60437   \n",
       "\n",
       "              lastSeen  \n",
       "0  2016-04-07 03:16:57  \n",
       "1  2016-04-07 01:46:50  \n",
       "2  2016-04-05 12:47:46  \n",
       "3  2016-03-17 17:40:17  \n",
       "4  2016-04-06 10:17:21  \n",
       "\n",
       "[5 rows x 21 columns]"
      ]
     },
     "execution_count": 29,
     "metadata": {},
     "output_type": "execute_result"
    }
   ],
   "source": [
    "# show the data\n",
    "df.head()"
   ]
  },
  {
   "cell_type": "code",
   "execution_count": 30,
   "id": "9d8f5403-4b3d-496e-98c6-7fe6e069595f",
   "metadata": {
    "tags": []
   },
   "outputs": [
    {
     "name": "stdout",
     "output_type": "stream",
     "text": [
      "<class 'pandas.core.frame.DataFrame'>\n",
      "RangeIndex: 371528 entries, 0 to 371527\n",
      "Data columns (total 21 columns):\n",
      " #   Column               Non-Null Count   Dtype \n",
      "---  ------               --------------   ----- \n",
      " 0   index                371528 non-null  int64 \n",
      " 1   dateCrawled          371528 non-null  object\n",
      " 2   name                 371528 non-null  object\n",
      " 3   seller               371528 non-null  object\n",
      " 4   offerType            371528 non-null  object\n",
      " 5   price                371528 non-null  int64 \n",
      " 6   abtest               371528 non-null  object\n",
      " 7   vehicleType          333659 non-null  object\n",
      " 8   yearOfRegistration   371528 non-null  int64 \n",
      " 9   gearbox              351319 non-null  object\n",
      " 10  powerPS              371528 non-null  int64 \n",
      " 11  model                351044 non-null  object\n",
      " 12  kilometer            371528 non-null  int64 \n",
      " 13  monthOfRegistration  371528 non-null  int64 \n",
      " 14  fuelType             338142 non-null  object\n",
      " 15  brand                371528 non-null  object\n",
      " 16  notRepairedDamage    299468 non-null  object\n",
      " 17  dateCreated          371528 non-null  object\n",
      " 18  nrOfPictures         371528 non-null  int64 \n",
      " 19  postalCode           371528 non-null  int64 \n",
      " 20  lastSeen             371528 non-null  object\n",
      "dtypes: int64(8), object(13)\n",
      "memory usage: 59.5+ MB\n"
     ]
    }
   ],
   "source": [
    "# show information of data\n",
    "df.info()"
   ]
  },
  {
   "cell_type": "code",
   "execution_count": 20,
   "id": "307369c2-4c68-4121-b529-28964079ffb6",
   "metadata": {},
   "outputs": [
    {
     "data": {
      "text/plain": [
       "17295.14186548524"
      ]
     },
     "execution_count": 20,
     "metadata": {},
     "output_type": "execute_result"
    }
   ],
   "source": [
    "# return average of price \n",
    "df['price'].mean()"
   ]
  },
  {
   "cell_type": "code",
   "execution_count": 13,
   "id": "4acb97e7-2c9e-4906-86db-830a3e87b251",
   "metadata": {
    "tags": []
   },
   "outputs": [
    {
     "data": {
      "text/plain": [
       "129969    Kaufe_AUTOS_Zum_basteln\n",
       "Name: name, dtype: object"
      ]
     },
     "execution_count": 13,
     "metadata": {},
     "output_type": "execute_result"
    }
   ],
   "source": [
    "# return name(s) of car(s) with the highest price\n",
    "df[df['price']==df['price'].max()]['name']"
   ]
  },
  {
   "cell_type": "code",
   "execution_count": 10,
   "id": "6ec461f1-3d30-455e-a840-2698e8ac9714",
   "metadata": {
    "tags": []
   },
   "outputs": [
    {
     "data": {
      "text/plain": [
       "7                             VW_Derby_Bj_80__Scheunenfund\n",
       "40                       Suche_Opel_corsa_a_zu_verschenken\n",
       "115                                        Golf_IV_1.4_16V\n",
       "119                         Polo_6n_Karosse_zu_verschenken\n",
       "157                 Opel_meriva_1.6_16_v_lpg__z16xe_no_OPC\n",
       "                                ...                       \n",
       "371356           Verkaufen_einen_Opel_corsa_b_worlcup_cool\n",
       "371392    Ford_Fiesta_1.3___60PS___Bj_2002___Klima___Servo\n",
       "371402                           Suzuki_Swift_zu_verkaufen\n",
       "371431                                          Seat_Arosa\n",
       "371522                                     Mitsubishi_Cold\n",
       "Name: name, Length: 10778, dtype: object"
      ]
     },
     "execution_count": 10,
     "metadata": {},
     "output_type": "execute_result"
    }
   ],
   "source": [
    "# return name(s) of car(s) with the lowest price\n",
    "df[df['price']==df['price'].min()]['name']"
   ]
  },
  {
   "cell_type": "code",
   "execution_count": 45,
   "id": "fb92ea20-a542-40a1-b947-e1b9a064ff6e",
   "metadata": {},
   "outputs": [
    {
     "data": {
      "text/plain": [
       "volkswagen        79640\n",
       "bmw               40274\n",
       "opel              40136\n",
       "mercedes_benz     35309\n",
       "audi              32873\n",
       "ford              25573\n",
       "renault           17969\n",
       "peugeot           11027\n",
       "fiat               9676\n",
       "seat               7022\n",
       "mazda              5695\n",
       "skoda              5641\n",
       "smart              5249\n",
       "citroen            5182\n",
       "nissan             5037\n",
       "toyota             4694\n",
       "sonstige_autos     3982\n",
       "hyundai            3646\n",
       "mini               3394\n",
       "volvo              3327\n",
       "mitsubishi         3061\n",
       "honda              2836\n",
       "kia                2555\n",
       "alfa_romeo         2345\n",
       "suzuki             2328\n",
       "porsche            2215\n",
       "chevrolet          1845\n",
       "chrysler           1452\n",
       "dacia               900\n",
       "jeep                807\n",
       "daihatsu            806\n",
       "subaru              779\n",
       "land_rover          770\n",
       "jaguar              621\n",
       "trabant             591\n",
       "daewoo              542\n",
       "saab                530\n",
       "rover               490\n",
       "lancia              484\n",
       "lada                225\n",
       "Name: brand, dtype: int64"
      ]
     },
     "execution_count": 45,
     "metadata": {},
     "output_type": "execute_result"
    }
   ],
   "source": [
    "# return number of cars for each brand\n",
    "df['brand'].value_counts()"
   ]
  },
  {
   "cell_type": "code",
   "execution_count": 17,
   "id": "e78efa2d-dbf9-442e-9de0-d2aadbd2362e",
   "metadata": {
    "tags": []
   },
   "outputs": [
    {
     "data": {
      "text/html": [
       "<div>\n",
       "<style scoped>\n",
       "    .dataframe tbody tr th:only-of-type {\n",
       "        vertical-align: middle;\n",
       "    }\n",
       "\n",
       "    .dataframe tbody tr th {\n",
       "        vertical-align: top;\n",
       "    }\n",
       "\n",
       "    .dataframe thead th {\n",
       "        text-align: right;\n",
       "    }\n",
       "</style>\n",
       "<table border=\"1\" class=\"dataframe\">\n",
       "  <thead>\n",
       "    <tr style=\"text-align: right;\">\n",
       "      <th></th>\n",
       "      <th>index</th>\n",
       "      <th>yearOfRegistration</th>\n",
       "      <th>powerPS</th>\n",
       "      <th>kilometer</th>\n",
       "      <th>monthOfRegistration</th>\n",
       "      <th>nrOfPictures</th>\n",
       "      <th>postalCode</th>\n",
       "    </tr>\n",
       "    <tr>\n",
       "      <th>price</th>\n",
       "      <th></th>\n",
       "      <th></th>\n",
       "      <th></th>\n",
       "      <th></th>\n",
       "      <th></th>\n",
       "      <th></th>\n",
       "      <th></th>\n",
       "    </tr>\n",
       "  </thead>\n",
       "  <tbody>\n",
       "    <tr>\n",
       "      <th>0</th>\n",
       "      <td>184583.815643</td>\n",
       "      <td>2008.844684</td>\n",
       "      <td>81.178605</td>\n",
       "      <td>124180.274634</td>\n",
       "      <td>3.697161</td>\n",
       "      <td>0.0</td>\n",
       "      <td>44944.130822</td>\n",
       "    </tr>\n",
       "    <tr>\n",
       "      <th>1</th>\n",
       "      <td>188295.454163</td>\n",
       "      <td>2008.621531</td>\n",
       "      <td>82.997477</td>\n",
       "      <td>116337.258200</td>\n",
       "      <td>3.363331</td>\n",
       "      <td>0.0</td>\n",
       "      <td>48277.243902</td>\n",
       "    </tr>\n",
       "    <tr>\n",
       "      <th>2</th>\n",
       "      <td>232079.416667</td>\n",
       "      <td>2001.583333</td>\n",
       "      <td>80.083333</td>\n",
       "      <td>82083.333333</td>\n",
       "      <td>3.750000</td>\n",
       "      <td>0.0</td>\n",
       "      <td>43563.250000</td>\n",
       "    </tr>\n",
       "    <tr>\n",
       "      <th>3</th>\n",
       "      <td>215282.125000</td>\n",
       "      <td>1999.000000</td>\n",
       "      <td>58.125000</td>\n",
       "      <td>107500.000000</td>\n",
       "      <td>4.000000</td>\n",
       "      <td>0.0</td>\n",
       "      <td>45482.875000</td>\n",
       "    </tr>\n",
       "    <tr>\n",
       "      <th>4</th>\n",
       "      <td>74852.000000</td>\n",
       "      <td>1980.000000</td>\n",
       "      <td>0.000000</td>\n",
       "      <td>5000.000000</td>\n",
       "      <td>0.000000</td>\n",
       "      <td>0.0</td>\n",
       "      <td>32657.000000</td>\n",
       "    </tr>\n",
       "    <tr>\n",
       "      <th>...</th>\n",
       "      <td>...</td>\n",
       "      <td>...</td>\n",
       "      <td>...</td>\n",
       "      <td>...</td>\n",
       "      <td>...</td>\n",
       "      <td>...</td>\n",
       "      <td>...</td>\n",
       "    </tr>\n",
       "    <tr>\n",
       "      <th>32545461</th>\n",
       "      <td>183361.000000</td>\n",
       "      <td>2004.000000</td>\n",
       "      <td>175.000000</td>\n",
       "      <td>5000.000000</td>\n",
       "      <td>10.000000</td>\n",
       "      <td>0.0</td>\n",
       "      <td>86316.000000</td>\n",
       "    </tr>\n",
       "    <tr>\n",
       "      <th>74185296</th>\n",
       "      <td>120919.000000</td>\n",
       "      <td>2000.000000</td>\n",
       "      <td>0.000000</td>\n",
       "      <td>20000.000000</td>\n",
       "      <td>0.000000</td>\n",
       "      <td>0.0</td>\n",
       "      <td>72072.000000</td>\n",
       "    </tr>\n",
       "    <tr>\n",
       "      <th>99000000</th>\n",
       "      <td>251980.000000</td>\n",
       "      <td>2009.000000</td>\n",
       "      <td>190.000000</td>\n",
       "      <td>150000.000000</td>\n",
       "      <td>11.000000</td>\n",
       "      <td>0.0</td>\n",
       "      <td>60433.000000</td>\n",
       "    </tr>\n",
       "    <tr>\n",
       "      <th>99999999</th>\n",
       "      <td>195411.066667</td>\n",
       "      <td>1994.600000</td>\n",
       "      <td>91.400000</td>\n",
       "      <td>112333.333333</td>\n",
       "      <td>3.466667</td>\n",
       "      <td>0.0</td>\n",
       "      <td>38756.400000</td>\n",
       "    </tr>\n",
       "    <tr>\n",
       "      <th>2147483647</th>\n",
       "      <td>129969.000000</td>\n",
       "      <td>1996.000000</td>\n",
       "      <td>888.000000</td>\n",
       "      <td>150000.000000</td>\n",
       "      <td>1.000000</td>\n",
       "      <td>0.0</td>\n",
       "      <td>4720.000000</td>\n",
       "    </tr>\n",
       "  </tbody>\n",
       "</table>\n",
       "<p>5597 rows × 7 columns</p>\n",
       "</div>"
      ],
      "text/plain": [
       "                    index  yearOfRegistration     powerPS      kilometer  \\\n",
       "price                                                                      \n",
       "0           184583.815643         2008.844684   81.178605  124180.274634   \n",
       "1           188295.454163         2008.621531   82.997477  116337.258200   \n",
       "2           232079.416667         2001.583333   80.083333   82083.333333   \n",
       "3           215282.125000         1999.000000   58.125000  107500.000000   \n",
       "4            74852.000000         1980.000000    0.000000    5000.000000   \n",
       "...                   ...                 ...         ...            ...   \n",
       "32545461    183361.000000         2004.000000  175.000000    5000.000000   \n",
       "74185296    120919.000000         2000.000000    0.000000   20000.000000   \n",
       "99000000    251980.000000         2009.000000  190.000000  150000.000000   \n",
       "99999999    195411.066667         1994.600000   91.400000  112333.333333   \n",
       "2147483647  129969.000000         1996.000000  888.000000  150000.000000   \n",
       "\n",
       "            monthOfRegistration  nrOfPictures    postalCode  \n",
       "price                                                        \n",
       "0                      3.697161           0.0  44944.130822  \n",
       "1                      3.363331           0.0  48277.243902  \n",
       "2                      3.750000           0.0  43563.250000  \n",
       "3                      4.000000           0.0  45482.875000  \n",
       "4                      0.000000           0.0  32657.000000  \n",
       "...                         ...           ...           ...  \n",
       "32545461              10.000000           0.0  86316.000000  \n",
       "74185296               0.000000           0.0  72072.000000  \n",
       "99000000              11.000000           0.0  60433.000000  \n",
       "99999999               3.466667           0.0  38756.400000  \n",
       "2147483647             1.000000           0.0   4720.000000  \n",
       "\n",
       "[5597 rows x 7 columns]"
      ]
     },
     "execution_count": 17,
     "metadata": {},
     "output_type": "execute_result"
    }
   ],
   "source": [
    "# group the data by price and return average per every price\n",
    "df.groupby(\"price\").mean()"
   ]
  },
  {
   "cell_type": "code",
   "execution_count": 44,
   "id": "41189099-0cc0-4c20-baed-40cc2e12df3c",
   "metadata": {},
   "outputs": [
    {
     "data": {
      "text/plain": [
       "string[python]"
      ]
     },
     "execution_count": 44,
     "metadata": {},
     "output_type": "execute_result"
    }
   ],
   "source": [
    "# convert data type of name column to string\n",
    "df['name']=df['name'].astype('string')\n",
    "df['name'].dtype"
   ]
  },
  {
   "cell_type": "code",
   "execution_count": 18,
   "id": "3f71b01f-f5e0-465b-96ad-8439b3433df5",
   "metadata": {},
   "outputs": [
    {
     "data": {
      "text/plain": [
       "0          not known\n",
       "1              coupe\n",
       "2                suv\n",
       "3         kleinwagen\n",
       "4         kleinwagen\n",
       "             ...    \n",
       "371523     not known\n",
       "371524        cabrio\n",
       "371525           bus\n",
       "371526         kombi\n",
       "371527     limousine\n",
       "Name: vehicleType, Length: 371528, dtype: object"
      ]
     },
     "execution_count": 18,
     "metadata": {},
     "output_type": "execute_result"
    }
   ],
   "source": [
    "# replace every nan value in vehicle type by not known\n",
    "df['vehicleType'].fillna(\"not known\")"
   ]
  },
  {
   "cell_type": "code",
   "execution_count": 19,
   "id": "1d0a9fcb-a8b7-4f61-a7a8-303292da6c74",
   "metadata": {},
   "outputs": [
    {
     "data": {
      "text/plain": [
       "1              coupe\n",
       "2                suv\n",
       "3         kleinwagen\n",
       "4         kleinwagen\n",
       "5          limousine\n",
       "             ...    \n",
       "371521           bus\n",
       "371524        cabrio\n",
       "371525           bus\n",
       "371526         kombi\n",
       "371527     limousine\n",
       "Name: vehicleType, Length: 333659, dtype: object"
      ]
     },
     "execution_count": 19,
     "metadata": {},
     "output_type": "execute_result"
    }
   ],
   "source": [
    "# remove every nan value row in vehicle type \n",
    "df['vehicleType'].dropna()"
   ]
  },
  {
   "cell_type": "code",
   "execution_count": 21,
   "id": "e67f232e-0b58-4a43-bd33-13b76b3a8933",
   "metadata": {},
   "outputs": [
    {
     "data": {
      "text/plain": [
       "331818    limousine\n",
       "Name: vehicleType, dtype: object"
      ]
     },
     "execution_count": 21,
     "metadata": {},
     "output_type": "execute_result"
    }
   ],
   "source": [
    "# return vehicle type of car with name Ford_Escort_Turbo_RS\n",
    "df[df['name']=='Ford_Escort_Turbo_RS']['vehicleType']"
   ]
  },
  {
   "cell_type": "code",
   "execution_count": 22,
   "id": "9cfcb01d-6a04-4c2d-a5b0-5875135daf3a",
   "metadata": {},
   "outputs": [
    {
     "data": {
      "text/plain": [
       "3    golf\n",
       "Name: model, dtype: object"
      ]
     },
     "execution_count": 22,
     "metadata": {},
     "output_type": "execute_result"
    }
   ],
   "source": [
    "# return model of car with name GOLF_4_1_4__3TÜRER\n",
    "df[df['name']=='GOLF_4_1_4__3TÜRER']['model']"
   ]
  },
  {
   "cell_type": "code",
   "execution_count": 24,
   "id": "8c1242cf-2bd6-4a03-aa65-8fa0edb909de",
   "metadata": {},
   "outputs": [
    {
     "data": {
      "text/plain": [
       "13576     Verkaufe_DESIGN_Streifen_/_Aufkleber_VW__Opel_...\n",
       "15894                                        Alles_anbieten\n",
       "16657                      quad_neu_t?v_tauschen_gegen_Auto\n",
       "18121                         Opel_GT_Karosserie_mit_Brief!\n",
       "18196                 Reo_Vorkriegs_Oldtimer_Rennwagen_1928\n",
       "                                ...                        \n",
       "351235                                  Vw_Golf_1_16v_Turbo\n",
       "352029         Mini_MK2_Top_ohne_Rost_sucht_neuen_Liebhaber\n",
       "355280                        Golf_4_Karosse_schrott_Kupfer\n",
       "357075                               Tausche_hier_mein_Quad\n",
       "358386                                           Suche_Auto\n",
       "Name: name, Length: 114, dtype: object"
      ]
     },
     "execution_count": 24,
     "metadata": {},
     "output_type": "execute_result"
    }
   ],
   "source": [
    "# return names of cars that has year Of Registration above 2010\n",
    "df[df['yearOfRegistration']>2020]['name']"
   ]
  },
  {
   "cell_type": "code",
   "execution_count": 26,
   "id": "50e75a12-3d82-4c32-8694-985a443ab2a8",
   "metadata": {},
   "outputs": [
    {
     "data": {
      "text/plain": [
       "manuell      274214\n",
       "automatik     77105\n",
       "Name: gearbox, dtype: int64"
      ]
     },
     "execution_count": 26,
     "metadata": {},
     "output_type": "execute_result"
    }
   ],
   "source": [
    "# return number of every geerbox\n",
    "df['gearbox'].value_counts()"
   ]
  },
  {
   "cell_type": "code",
   "execution_count": 28,
   "id": "71386503-e35b-40bc-8905-94308b7485d4",
   "metadata": {},
   "outputs": [
    {
     "data": {
      "text/plain": [
       "1                                      A5_Sportback_2.7_Tdi\n",
       "2                            Jeep_Grand_Cherokee_\"Overland\"\n",
       "4                            Skoda_Fabia_1.4_TDI_PD_Classic\n",
       "11            Volkswagen_Passat_Variant_2.0_TDI_Comfortline\n",
       "14        Nissan_Navara_2.5DPF_SE4x4_Klima_Sitzheizg_Blu...\n",
       "                                ...                        \n",
       "371513                         Seat_Leon_1.9_TDI_4/5_Tueren\n",
       "371517                     Volkswagen_Golf_2.0_TDI_DPF_Team\n",
       "371518                            Bmw_320_D_DPF_Touring_!!!\n",
       "371525                   Volkswagen_Multivan_T4_TDI_7DC_UY2\n",
       "371526                               VW_Golf_Kombi_1_9l_TDI\n",
       "Name: name, Length: 107746, dtype: object"
      ]
     },
     "execution_count": 28,
     "metadata": {},
     "output_type": "execute_result"
    }
   ],
   "source": [
    "# retrun names of cars where  fule type='diesel'\n",
    "df[df['fuelType']=='diesel']['name']"
   ]
  },
  {
   "cell_type": "code",
   "execution_count": 32,
   "id": "e6f68198-737c-4c47-a0c0-0b186c103f03",
   "metadata": {},
   "outputs": [
    {
     "data": {
      "text/plain": [
       "0                                           Golf_3_1.6\n",
       "1                                 A5_Sportback_2.7_Tdi\n",
       "2                       Jeep_Grand_Cherokee_\"Overland\"\n",
       "3                                   GOLF_4_1_4__3TÜRER\n",
       "4                       Skoda_Fabia_1.4_TDI_PD_Classic\n",
       "                              ...                     \n",
       "371523                      Suche_t4___vito_ab_6_sitze\n",
       "371524           Smart_smart_leistungssteigerung_100ps\n",
       "371525              Volkswagen_Multivan_T4_TDI_7DC_UY2\n",
       "371526                          VW_Golf_Kombi_1_9l_TDI\n",
       "371527    BMW_M135i_vollausgestattet_NP_52.720____Euro\n",
       "Name: name, Length: 371528, dtype: object"
      ]
     },
     "execution_count": 32,
     "metadata": {},
     "output_type": "execute_result"
    }
   ],
   "source": [
    "# return names of cars that has kilometer bellow 1000000\n",
    "df[df['kilometer']<1000000]['name']"
   ]
  },
  {
   "cell_type": "code",
   "execution_count": 34,
   "id": "4b4b7171-dd0a-43dd-a28a-a9935b1f863c",
   "metadata": {},
   "outputs": [
    {
     "data": {
      "text/plain": [
       "343172    bmw\n",
       "Name: brand, dtype: object"
      ]
     },
     "execution_count": 34,
     "metadata": {},
     "output_type": "execute_result"
    }
   ],
   "source": [
    "# return brand of car name Bmw_520iA_Touring_Klima_Automatik_Tuev_3/2018\n",
    "df[df['name']=='Bmw_520iA_Touring_Klima_Automatik_Tuev_3/2018']['brand']"
   ]
  },
  {
   "cell_type": "code",
   "execution_count": 42,
   "id": "60586c09-3303-4418-b2a1-a2feb7640c6e",
   "metadata": {},
   "outputs": [
    {
     "data": {
      "text/plain": [
       "5         33775\n",
       "21        68309\n",
       "25        73765\n",
       "33        39179\n",
       "42        46119\n",
       "          ...  \n",
       "371477    85376\n",
       "371485    47138\n",
       "371494     4107\n",
       "371518    81825\n",
       "371527    73326\n",
       "Name: postalCode, Length: 40274, dtype: int64"
      ]
     },
     "execution_count": 42,
     "metadata": {},
     "output_type": "execute_result"
    }
   ],
   "source": [
    "# return postal codes of cars with brand of bmw\n",
    "df[df['brand']=='bmw']['postalCode']"
   ]
  },
  {
   "cell_type": "code",
   "execution_count": 40,
   "id": "624522aa-89fa-40b9-b00c-0b6209e2ceb0",
   "metadata": {},
   "outputs": [
    {
     "data": {
      "text/plain": [
       "<AxesSubplot:xlabel='brand', ylabel='price'>"
      ]
     },
     "execution_count": 40,
     "metadata": {},
     "output_type": "execute_result"
    },
    {
     "data": {
      "image/png": "[encoded data removed]",
      "text/plain": [
       "<Figure size 640x480 with 1 Axes>"
      ]
     },
     "metadata": {},
     "output_type": "display_data"
    }
   ],
   "source": [
    "# draw bar plot to brand and price\n",
    "sns.barplot(x='brand',y='price',data=df)"
   ]
  },
  {
   "cell_type": "code",
   "execution_count": 41,
   "id": "a30af02c-5ba5-487e-a2ac-3ee397368402",
   "metadata": {},
   "outputs": [
    {
     "data": {
      "text/plain": [
       "<AxesSubplot:xlabel='brand', ylabel='price'>"
      ]
     },
     "execution_count": 41,
     "metadata": {},
     "output_type": "execute_result"
    },
    {
     "data": {
      "image/png": "[encoded data removed]",
      "text/plain": [
       "<Figure size 640x480 with 1 Axes>"
      ]
     },
     "metadata": {},
     "output_type": "display_data"
    }
   ],
   "source": [
    "# draw box plot to brand and price\n",
    "sns.boxplot(x='brand',y='price',data=df,palette='rainbow')"
   ]
  },
  {
   "cell_type": "code",
   "execution_count": null,
   "id": "82fa28bd-d767-4d88-a34d-f5fd194f790f",
   "metadata": {},
   "outputs": [],
   "source": []
  }
 ],
 "metadata": {
  "kernelspec": {
   "display_name": "Python 3 (ipykernel)",
   "language": "python",
   "name": "python3"
  },
  "language_info": {
   "codemirror_mode": {
    "name": "ipython",
    "version": 3
   },
   "file_extension": ".py",
   "mimetype": "text/x-python",
   "name": "python",
   "nbconvert_exporter": "python",
   "pygments_lexer": "ipython3",
   "version": "3.9.7"
  }
 },
 "nbformat": 4,
 "nbformat_minor": 5
}
